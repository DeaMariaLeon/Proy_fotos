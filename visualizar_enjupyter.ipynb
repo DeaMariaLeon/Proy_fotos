{
 "cells": [
  {
   "cell_type": "code",
   "execution_count": 8,
   "metadata": {},
   "outputs": [],
   "source": [
    "from ver_fotos_enpath import get_names\n",
    "import tensorflow as tf\n",
    "from bs4 import BeautifulSoup\n",
    "from pathlib import Path"
   ]
  },
  {
   "cell_type": "code",
   "execution_count": 9,
   "metadata": {},
   "outputs": [],
   "source": [
    "\n",
    "def check_outputhtml(path, output_file):\n",
    "    \"\"\"Function to check if the output html file  exists and if the \n",
    "       path has not already been processed (used) before. \n",
    "       All the resized pictures and their links will be added on this output file.\n",
    "\n",
    "       path: Root directory where I want to take all the pictures from.\n",
    "       output_file: html file name   \n",
    "       used_path: boolean, indicates that the path has been used before\n",
    "       new_output = boolean to say that the html is a new document (will need a header)  \n",
    "       soup: the whole html document\n",
    "       num_of_fotos = number of pics in the document\n",
    "             \n",
    "    \"\"\"\n",
    "    if Path(output_file).exists(): \n",
    "        with open(output_file, \"r\") as html:\n",
    "            soup = BeautifulSoup(html, 'html.parser')\n",
    "            heads = [tag.string for tag in soup.find_all('h1')] # finds all the headers (paths processed before)\n",
    "            links = [l for l in soup.find_all('a')]    # finds all the <a href tags\n",
    "            \n",
    "        used_path = path in heads #if the path exists, I don't want to process it again\n",
    "        new_output = False \n",
    "    else:    \n",
    "        used_path = False\n",
    "        new_output = True\n",
    "        links = []\n",
    "        soup = None\n",
    "    num_of_fotos = len(links)  \n",
    "    return used_path, new_output, soup, num_of_fotos\n",
    "    "
   ]
  },
  {
   "cell_type": "code",
   "execution_count": 10,
   "metadata": {},
   "outputs": [],
   "source": [
    "def process_pics(path, num_ofpics):\n",
    "    \"\"\" Process the pictures to resize them (to smaller resolution),\n",
    "        gives them a new name and adds name and link to a variable that\n",
    "        will be added to an html document\n",
    "        path: root directory\n",
    "        num_ofpics: number of pictures already in the html document\"\"\"\n",
    "\n",
    "    tmp_output = ''\n",
    "    names = get_names(path) #get the entire name of all the pictures to process (including their path)\n",
    "    for x, i in enumerate(names):\n",
    "        foto = tf.io.read_file(i)\n",
    "        foto = tf.io.decode_jpeg(foto)\n",
    "        foto = tf.image.convert_image_dtype(foto, tf.float32)\n",
    "        foto = tf.image.resize(foto, [128, 128], preserve_aspect_ratio=True)\n",
    "        img = tf.keras.preprocessing.image.array_to_img(foto)\n",
    "        img_string = \"/Users/dealeon/Directorio_fotostf/fotito\" + str(x + num_ofpics) + \".jpg\"\n",
    "        img.save(img_string)  \n",
    "        i = i.replace(\" \", \"%20\") #subdirectories (i) might have spaces, links get broken if not replaced with %20\n",
    "        \n",
    "        tmp_output += '<a href=' + i  +'><img src=\"' + img_string + '\"></img></a>\\n'\n",
    "        \n",
    "    return tmp_output        \n"
   ]
  },
  {
   "cell_type": "code",
   "execution_count": 11,
   "metadata": {},
   "outputs": [],
   "source": [
    "\n",
    "def build_html(path, used_path, new_output, soup, num_ofpics, output_file):\n",
    "    \"\"\" Function to build html document. If it is new, it needs a header.\n",
    "        If it is not new, the path and the pictures with their links, need to be inserted.\n",
    "    \"\"\" \n",
    "    if used_path: return\n",
    "    \n",
    "    output = ''\n",
    "    if new_output:\n",
    "        \n",
    "        output = '<!DOCTYPE html>\\n'\n",
    "        output+= '<html>\\n'\n",
    "        output+= '<head><title>Fotos de Dea</title></head>\\n'\n",
    "        output+= '<body>\\n'\n",
    "        output+= '<h1>' + path + '</h1>'\n",
    "        output+= process_pics(path, num_ofpics) \n",
    "        output+= '</body>\\n'\n",
    "        output+= '</html>\\n'\n",
    "        with open(output_file, \"w\") as new_html:\n",
    "            new_html.write(output)\n",
    "\n",
    "    else:\n",
    "        tag = soup.new_tag(\"h1\")\n",
    "        tag.string = path\n",
    "        original_body=soup.body\n",
    "        original_body.append(tag)\n",
    "        tmp_output = process_pics(path, num_ofpics)\n",
    "        soup2 = BeautifulSoup(tmp_output)\n",
    "        soup.body.append(soup2)\n",
    "        with open(output_file, \"w\") as f:\n",
    "                    f.write(str(soup))\n",
    "    return            "
   ]
  },
  {
   "cell_type": "code",
   "execution_count": 14,
   "metadata": {},
   "outputs": [],
   "source": [
    "#path = \"/Users/dealeon/Pictures/Fotos/Noruega2009\"\n",
    "path = \"/Users/dealeon/Dir_de_prueba\"\n",
    "#path = \"/Users/dealeon/Pictures/Fotos - library/2019\"\n",
    "#path = \"/Users/dealeon/Pictures/Fotos - library/22 June 2015\"\n",
    "#path = \"/Users/dealeon/Pictures/Fotos - library/5 April 2015\"\n",
    "output_file = \"output.html\"\n",
    "\n",
    "if Path(path).exists():\n",
    "    used_path, new_output, soup, num_ofpics = check_outputhtml(path, output_file)\n",
    "\n",
    "    build_html(path, used_path, new_output, soup, num_ofpics, output_file)"
   ]
  },
  {
   "cell_type": "code",
   "execution_count": 13,
   "metadata": {},
   "outputs": [],
   "source": [
    "#print(soup.prettify())"
   ]
  }
 ],
 "metadata": {
  "interpreter": {
   "hash": "999c4c1ef9b31c1406bf98669c5cba9bef66f184a93c353a3db334ea568ed069"
  },
  "kernelspec": {
   "display_name": "Python 3.7.6 64-bit ('environment1': conda)",
   "language": "python",
   "name": "python3"
  },
  "language_info": {
   "codemirror_mode": {
    "name": "ipython",
    "version": 3
   },
   "file_extension": ".py",
   "mimetype": "text/x-python",
   "name": "python",
   "nbconvert_exporter": "python",
   "pygments_lexer": "ipython3",
   "version": "3.7.6"
  },
  "orig_nbformat": 4
 },
 "nbformat": 4,
 "nbformat_minor": 2
}
